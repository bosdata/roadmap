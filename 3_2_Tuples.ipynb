{
  "nbformat": 4,
  "nbformat_minor": 0,
  "metadata": {
    "colab": {
      "provenance": [],
      "authorship_tag": "ABX9TyOMjNogp38rRENFZc1BHsqa",
      "include_colab_link": true
    },
    "kernelspec": {
      "name": "python3",
      "display_name": "Python 3"
    },
    "language_info": {
      "name": "python"
    }
  },
  "cells": [
    {
      "cell_type": "markdown",
      "metadata": {
        "id": "view-in-github",
        "colab_type": "text"
      },
      "source": [
        "<a href=\"https://colab.research.google.com/github/bosdata/roadmap/blob/main/3_2_Tuples.ipynb\" target=\"_parent\"><img src=\"https://colab.research.google.com/assets/colab-badge.svg\" alt=\"Open In Colab\"/></a>"
      ]
    },
    {
      "cell_type": "markdown",
      "source": [
        "1. Intduction to Tuples\n",
        "2. Creating tuples\n",
        "3. Accessing Tuple Elements\n",
        "4. Tuple Operations\n",
        "5. Immutable Nature\n",
        "6. Tuple Methods\n",
        "7. Packing and unpacking Tuples\n",
        "8. Nested Tuples\n",
        "9. Practical Examples and Common Errors"
      ],
      "metadata": {
        "id": "WlqbmoBMV67p"
      }
    },
    {
      "cell_type": "markdown",
      "source": [
        "# Introduction to Tuples"
      ],
      "metadata": {
        "id": "svs50BdJYi8f"
      }
    },
    {
      "cell_type": "markdown",
      "source": [
        "Explanation:\n",
        "\n",
        "Tuples are ordered collections of items that are immutable. They are similar to list but their immutability makes them different"
      ],
      "metadata": {
        "id": "6efNPF9wa6E2"
      }
    },
    {
      "cell_type": "code",
      "source": [
        "## Creating tuples\n",
        "empty_tuple=()\n",
        "print(empty_tuple)\n",
        "print(type(empty_tuple))"
      ],
      "metadata": {
        "colab": {
          "base_uri": "https://localhost:8080/"
        },
        "id": "W0s5vpKyYJk5",
        "outputId": "d6b04976-278e-4968-c070-90efbb9ba859"
      },
      "execution_count": null,
      "outputs": [
        {
          "output_type": "stream",
          "name": "stdout",
          "text": [
            "()\n",
            "<class 'tuple'>\n"
          ]
        }
      ]
    },
    {
      "cell_type": "code",
      "source": [
        "tupp = tuple()\n",
        "lsst = list()\n",
        "print(type(tupp))\n",
        "print(type(lsst))"
      ],
      "metadata": {
        "colab": {
          "base_uri": "https://localhost:8080/"
        },
        "id": "uV55s2CBlTEZ",
        "outputId": "815e11e5-c4d0-4570-8293-7a35a12bdb4c"
      },
      "execution_count": null,
      "outputs": [
        {
          "output_type": "stream",
          "name": "stdout",
          "text": [
            "<class 'tuple'>\n",
            "<class 'list'>\n"
          ]
        }
      ]
    },
    {
      "cell_type": "code",
      "source": [
        "numbers = tuple([1,2,3,4,5,6])\n",
        "print(numbers)\n",
        "\n",
        "lst = list((1,2,3,4,5,6))\n",
        "print(lst)"
      ],
      "metadata": {
        "colab": {
          "base_uri": "https://localhost:8080/"
        },
        "id": "GL1r79LKeZae",
        "outputId": "65a17760-6cf0-455f-d52b-6a863cbc9543"
      },
      "execution_count": null,
      "outputs": [
        {
          "output_type": "stream",
          "name": "stdout",
          "text": [
            "(1, 2, 3, 4, 5, 6)\n",
            "[1, 2, 3, 4, 5, 6]\n"
          ]
        }
      ]
    },
    {
      "cell_type": "code",
      "source": [
        "del list   # deletes your variable so Python uses the built-in again\n",
        "\n"
      ],
      "metadata": {
        "id": "2bY5JIwmi3K0"
      },
      "execution_count": null,
      "outputs": []
    },
    {
      "cell_type": "code",
      "source": [
        "mixed_tuple = (1, \"Hello World\", 3.14, True)\n",
        "print(mixed_tuple)"
      ],
      "metadata": {
        "colab": {
          "base_uri": "https://localhost:8080/"
        },
        "id": "K179XxwkmaM3",
        "outputId": "ee488e46-220f-4ecb-fb24-a4d49c97a5cb"
      },
      "execution_count": null,
      "outputs": [
        {
          "output_type": "stream",
          "name": "stdout",
          "text": [
            "(1, 'Hello World', 3.14, True)\n"
          ]
        }
      ]
    },
    {
      "cell_type": "code",
      "source": [
        "## Accessing Tuple Elements\n",
        "print(numbers)\n",
        "print (numbers[2])"
      ],
      "metadata": {
        "colab": {
          "base_uri": "https://localhost:8080/"
        },
        "id": "_qQbB_CCmxNn",
        "outputId": "eb900cca-09a4-47bd-ef32-0f633989fb21"
      },
      "execution_count": null,
      "outputs": [
        {
          "output_type": "stream",
          "name": "stdout",
          "text": [
            "(1, 2, 3, 4, 5, 6)\n",
            "3\n"
          ]
        }
      ]
    },
    {
      "cell_type": "code",
      "source": [
        "# Pic the last element\n",
        "print(numbers[-1])"
      ],
      "metadata": {
        "colab": {
          "base_uri": "https://localhost:8080/"
        },
        "id": "YK-apk-irrz4",
        "outputId": "277bf5ac-2202-4d79-f87d-ba0cb8f12221"
      },
      "execution_count": null,
      "outputs": [
        {
          "output_type": "stream",
          "name": "stdout",
          "text": [
            "6\n"
          ]
        }
      ]
    },
    {
      "cell_type": "code",
      "source": [
        "## Get the first 4 elements\n",
        "print(numbers[0:4])"
      ],
      "metadata": {
        "colab": {
          "base_uri": "https://localhost:8080/"
        },
        "id": "kXbTLgi1sAH3",
        "outputId": "ed59806c-e87d-43af-8cbc-253cedbd339d"
      },
      "execution_count": null,
      "outputs": [
        {
          "output_type": "stream",
          "name": "stdout",
          "text": [
            "(1, 2, 3, 4)\n"
          ]
        }
      ]
    },
    {
      "cell_type": "code",
      "source": [
        "print(numbers[::]) ## Returns all the elements\n",
        "print(numbers[::-1]) # Rearranges the order"
      ],
      "metadata": {
        "colab": {
          "base_uri": "https://localhost:8080/"
        },
        "id": "QeF_K3Z-sNCu",
        "outputId": "63667281-b6f0-4657-b8c1-b7a84ada61dd"
      },
      "execution_count": null,
      "outputs": [
        {
          "output_type": "stream",
          "name": "stdout",
          "text": [
            "(1, 2, 3, 4, 5, 6)\n",
            "(6, 5, 4, 3, 2, 1)\n"
          ]
        }
      ]
    },
    {
      "cell_type": "code",
      "source": [
        "## Tuples operation\n",
        "concantenation_tuple= numbers + mixed_tuple\n",
        "print(concantenation_tuple)"
      ],
      "metadata": {
        "colab": {
          "base_uri": "https://localhost:8080/"
        },
        "id": "eaWt-JuLyz2_",
        "outputId": "689b5bd2-9657-4c5a-f0c7-f5f7d4cbe72d"
      },
      "execution_count": null,
      "outputs": [
        {
          "output_type": "stream",
          "name": "stdout",
          "text": [
            "(1, 2, 3, 4, 5, 6, 1, 'Hello World', 3.14, True)\n"
          ]
        }
      ]
    },
    {
      "cell_type": "code",
      "source": [
        "tuple_3 = mixed_tuple * 3 #Returns everything tripled\n",
        "print(tuple_3 )"
      ],
      "metadata": {
        "colab": {
          "base_uri": "https://localhost:8080/"
        },
        "id": "5t9d-p7FzLfU",
        "outputId": "88066c77-f392-4993-acc7-095da5d87450"
      },
      "execution_count": null,
      "outputs": [
        {
          "output_type": "stream",
          "name": "stdout",
          "text": [
            "(1, 'Hello World', 3.14, True, 1, 'Hello World', 3.14, True, 1, 'Hello World', 3.14, True)\n"
          ]
        }
      ]
    },
    {
      "cell_type": "code",
      "source": [
        "## Immutable nature of tuples\n",
        "## Tuples are immutable meaning their elements cannot be changed once assigned\n",
        "lst = [i for i in range(1,6)]\n",
        "lst[1]='Bosdata'   ## Implying list are immutable\n",
        "print(lst)\n",
        "\n",
        "\n",
        "# numbers[1] = \"BOS\" Tuple object does not supprt item assignment can not change tuple element"
      ],
      "metadata": {
        "colab": {
          "base_uri": "https://localhost:8080/"
        },
        "id": "f34ycT_IzfIj",
        "outputId": "8947b450-9840-4903-93d0-406d9618e31c"
      },
      "execution_count": null,
      "outputs": [
        {
          "output_type": "stream",
          "name": "stdout",
          "text": [
            "[1, 'Bosdata', 3, 4, 5]\n"
          ]
        }
      ]
    },
    {
      "cell_type": "code",
      "source": [
        "## Tuple methods count, index\n",
        "print(numbers.count(1))\n",
        "print(numbers.index(3))"
      ],
      "metadata": {
        "colab": {
          "base_uri": "https://localhost:8080/"
        },
        "id": "lPd0adwK5urs",
        "outputId": "65b64fa1-d225-4a91-b193-a658a30a8af2"
      },
      "execution_count": null,
      "outputs": [
        {
          "output_type": "stream",
          "name": "stdout",
          "text": [
            "1\n",
            "2\n"
          ]
        }
      ]
    },
    {
      "cell_type": "code",
      "source": [
        "## Packing and unpacking\n",
        "packed_tuple =  1, \"Hello\", 3.14\n",
        "print(packed_tuple)\n",
        "\n",
        "\n",
        "## Unpacking a tuple\n",
        "INT, STR, FLT = packed_tuple\n",
        "print(INT)\n",
        "print(STR)\n",
        "print(FLT)\n",
        "\n",
        "\n",
        "## Unpacking with *\n",
        "numbers = 1,2,3,4,5,6\n",
        "print(numbers)\n",
        "\n",
        "first,*middle,sec_last, last = numbers\n",
        "print(first)\n",
        "print(middle)\n",
        "print(sec_last)\n",
        "print(last)"
      ],
      "metadata": {
        "colab": {
          "base_uri": "https://localhost:8080/"
        },
        "id": "H6WkY1px6kno",
        "outputId": "3e246a39-33cb-473a-eae3-a8842c4e953d"
      },
      "execution_count": null,
      "outputs": [
        {
          "output_type": "stream",
          "name": "stdout",
          "text": [
            "(1, 'Hello', 3.14)\n",
            "1\n",
            "Hello\n",
            "3.14\n",
            "(1, 2, 3, 4, 5, 6)\n",
            "1\n",
            "[2, 3, 4]\n",
            "5\n",
            "6\n"
          ]
        }
      ]
    },
    {
      "cell_type": "code",
      "source": [
        "## Nested loop\n",
        "# Lit\n",
        "lst = [[1,2,3,4],[6,7,8,9],(1,\"Hello\",3.14,\"c\")]\n",
        "print(lst)\n",
        "print(lst[0][2])\n",
        "print(lst[0][0:3])\n",
        "print(type(lst))\n",
        "\n",
        "\n",
        "# Tuple\n",
        "nested_loop = ((1,2,3),('a','b','c','d'),(True, False))\n",
        "print(nested_loop)\n",
        "print(nested_loop[0])\n",
        "print(nested_loop[1][2])"
      ],
      "metadata": {
        "colab": {
          "base_uri": "https://localhost:8080/"
        },
        "id": "P4rnGP3Q8XvZ",
        "outputId": "6e2ff050-596f-4978-baa3-5e50b8e3ad63"
      },
      "execution_count": null,
      "outputs": [
        {
          "output_type": "stream",
          "name": "stdout",
          "text": [
            "[[1, 2, 3, 4], [6, 7, 8, 9], (1, 'Hello', 3.14, 'c')]\n",
            "3\n",
            "[1, 2, 3]\n",
            "<class 'list'>\n",
            "((1, 2, 3), ('a', 'b', 'c', 'd'), (True, False))\n",
            "(1, 2, 3)\n",
            "c\n"
          ]
        }
      ]
    },
    {
      "cell_type": "code",
      "source": [
        "## Iterating over nested loops\n",
        "for sub_tuple in nested_loop:\n",
        "  for item in sub_tuple:\n",
        "    print(item, end = \" \")\n",
        "  print()"
      ],
      "metadata": {
        "colab": {
          "base_uri": "https://localhost:8080/"
        },
        "id": "s7lgKSm--2Ej",
        "outputId": "217fef27-d383-4cf4-bb8c-c0a5db9289e7"
      },
      "execution_count": null,
      "outputs": [
        {
          "output_type": "stream",
          "name": "stdout",
          "text": [
            "1 2 3 \n",
            "a b c d \n",
            "True False \n"
          ]
        }
      ]
    }
  ]
}