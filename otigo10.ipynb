{
  "nbformat": 4,
  "nbformat_minor": 0,
  "metadata": {
    "colab": {
      "provenance": [],
      "authorship_tag": "ABX9TyM8PGUoePFVFpVPDIDTE7aW",
      "include_colab_link": true
    },
    "kernelspec": {
      "name": "python3",
      "display_name": "Python 3"
    },
    "language_info": {
      "name": "python"
    }
  },
  "cells": [
    {
      "cell_type": "markdown",
      "metadata": {
        "id": "view-in-github",
        "colab_type": "text"
      },
      "source": [
        "<a href=\"https://colab.research.google.com/github/bosdata/roadmap/blob/main/otigo10.ipynb\" target=\"_parent\"><img src=\"https://colab.research.google.com/assets/colab-badge.svg\" alt=\"Open In Colab\"/></a>"
      ]
    },
    {
      "cell_type": "code",
      "execution_count": null,
      "metadata": {
        "id": "jYRuKUzmTAjX"
      },
      "outputs": [],
      "source": [
        "import numpy as np"
      ]
    },
    {
      "cell_type": "code",
      "source": [
        "## Let us generate an array with 10 random values\n",
        "rand_arr = np.random.randn(10)\n",
        "print(rand_arr)"
      ],
      "metadata": {
        "colab": {
          "base_uri": "https://localhost:8080/"
        },
        "id": "vMKY7OBPTQ7d",
        "outputId": "eca24cf1-4ac1-48ab-b46f-3ca0cbe5e22d"
      },
      "execution_count": null,
      "outputs": [
        {
          "output_type": "stream",
          "name": "stdout",
          "text": [
            "[-0.56375673 -1.02465223  0.29594936  0.84466388  0.48112383 -0.65610097\n",
            "  1.86844717 -0.1260594  -0.83851304  0.92242333]\n"
          ]
        }
      ]
    },
    {
      "cell_type": "code",
      "source": [
        "## Accesing the 6th entry\n",
        "\n",
        "## To get an element we access by the index\n",
        "print(rand_arr[5])"
      ],
      "metadata": {
        "colab": {
          "base_uri": "https://localhost:8080/"
        },
        "id": "9vR0yUP3UKv9",
        "outputId": "712a8279-374b-427e-cb77-b5390534aba6"
      },
      "execution_count": null,
      "outputs": [
        {
          "output_type": "stream",
          "name": "stdout",
          "text": [
            "-0.656100970636411\n"
          ]
        }
      ]
    },
    {
      "cell_type": "code",
      "source": [],
      "metadata": {
        "id": "o4FC0yHbUVC-"
      },
      "execution_count": null,
      "outputs": []
    },
    {
      "cell_type": "code",
      "source": [
        "## Accessing 4th entry\n",
        "print(rand_arr[3])"
      ],
      "metadata": {
        "colab": {
          "base_uri": "https://localhost:8080/"
        },
        "id": "qSOGLZYtT1et",
        "outputId": "d58e3b8b-13fa-4742-d718-f71dd90d74e5"
      },
      "execution_count": null,
      "outputs": [
        {
          "output_type": "stream",
          "name": "stdout",
          "text": [
            "0.8446638784238447\n"
          ]
        }
      ]
    },
    {
      "cell_type": "code",
      "source": [
        "#### Accessing myultiple array access 6th to 8th element\n",
        "\n",
        "print(rand_arr[5:8])\n",
        "\n",
        "## Print the first 5\n",
        "print(rand_arr[:5])"
      ],
      "metadata": {
        "colab": {
          "base_uri": "https://localhost:8080/"
        },
        "id": "l8jWVqblUYa9",
        "outputId": "be249d51-65b6-4288-b541-9ca45bf78a04"
      },
      "execution_count": null,
      "outputs": [
        {
          "output_type": "stream",
          "name": "stdout",
          "text": [
            "[-0.65610097  1.86844717 -0.1260594 ]\n",
            "[-0.56375673 -1.02465223  0.29594936  0.84466388  0.48112383]\n"
          ]
        }
      ]
    },
    {
      "cell_type": "code",
      "source": [
        "print(rand_arr[2::3])"
      ],
      "metadata": {
        "colab": {
          "base_uri": "https://localhost:8080/"
        },
        "id": "t8l-XYfKV49R",
        "outputId": "8b872184-6afe-4e8a-e8ab-19761240f80c"
      },
      "execution_count": null,
      "outputs": [
        {
          "output_type": "stream",
          "name": "stdout",
          "text": [
            "[ 0.29594936 -0.65610097 -0.83851304]\n"
          ]
        }
      ]
    },
    {
      "cell_type": "code",
      "source": [
        "### access the 3rd 6th and 9th\n",
        "print(\"Index of values to access: \", np.arange(2,10,3))\n",
        "print(rand_arr[np.arange(2,10,3)])"
      ],
      "metadata": {
        "colab": {
          "base_uri": "https://localhost:8080/"
        },
        "id": "6KVLwkogXuzs",
        "outputId": "3f9276d5-8210-4dd5-a157-2af31512ca3a"
      },
      "execution_count": null,
      "outputs": [
        {
          "output_type": "stream",
          "name": "stdout",
          "text": [
            "Index of values to access:  [2 5 8]\n",
            "[ 0.29594936 -0.65610097 -0.83851304]\n"
          ]
        }
      ]
    },
    {
      "cell_type": "markdown",
      "source": [
        "**Accessing arrays using logical operators**"
      ],
      "metadata": {
        "id": "e_Lfu5c3V_oA"
      }
    },
    {
      "cell_type": "code",
      "source": [
        "## Suppose we needed values less than zero and entries greater than zero\n",
        "print('Values greator than zero: ', rand_arr[rand_arr>0])\n",
        "print('Values greator than zero: ', rand_arr[rand_arr<0])\n"
      ],
      "metadata": {
        "colab": {
          "base_uri": "https://localhost:8080/"
        },
        "id": "_nF8Yi0PYquB",
        "outputId": "4b609ca9-f933-4fc5-811c-595e41fc750d"
      },
      "execution_count": null,
      "outputs": [
        {
          "output_type": "stream",
          "name": "stdout",
          "text": [
            "Values greator than zero:  [0.29594936 0.84466388 0.48112383 1.86844717 0.92242333]\n",
            "Values greator than zero:  [-0.56375673 -1.02465223 -0.65610097 -0.1260594  -0.83851304]\n",
            "[0.29594936 0.84466388 0.48112383 1.86844717 0.92242333]\n",
            "[-0.56375673 -1.02465223 -0.65610097 -0.1260594  -0.83851304]\n"
          ]
        }
      ]
    },
    {
      "cell_type": "code",
      "source": [
        "# Accessing elements that don't follow particular pattern for an array(say extract values lie 1st, 3rd 5th)\n",
        "print(np.arange(0,5,2))\n",
        "print(rand_arr[np.arange(0,6,2)])\n",
        "print(rand_arr)"
      ],
      "metadata": {
        "colab": {
          "base_uri": "https://localhost:8080/"
        },
        "id": "AnfobhmobFxT",
        "outputId": "e8f5310b-bfa9-423b-d746-c8e01106296b"
      },
      "execution_count": null,
      "outputs": [
        {
          "output_type": "stream",
          "name": "stdout",
          "text": [
            "[0 2 4]\n",
            "[-0.56375673  0.29594936  0.48112383]\n",
            "[-0.56375673 -1.02465223  0.29594936  0.84466388  0.48112383 -0.65610097\n",
            "  1.86844717 -0.1260594  -0.83851304  0.92242333]\n"
          ]
        }
      ]
    }
  ]
}