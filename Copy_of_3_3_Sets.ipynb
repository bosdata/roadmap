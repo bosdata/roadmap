{
  "nbformat": 4,
  "nbformat_minor": 0,
  "metadata": {
    "colab": {
      "provenance": [],
      "authorship_tag": "ABX9TyOKFO0pvoyBJbVxHPMbldd7",
      "include_colab_link": true
    },
    "kernelspec": {
      "name": "python3",
      "display_name": "Python 3"
    },
    "language_info": {
      "name": "python"
    }
  },
  "cells": [
    {
      "cell_type": "markdown",
      "metadata": {
        "id": "view-in-github",
        "colab_type": "text"
      },
      "source": [
        "<a href=\"https://colab.research.google.com/github/bosdata/roadmap/blob/main/Copy_of_3_3_Sets.ipynb\" target=\"_parent\"><img src=\"https://colab.research.google.com/assets/colab-badge.svg\" alt=\"Open In Colab\"/></a>"
      ]
    },
    {
      "cell_type": "markdown",
      "source": [
        "# Sets\n",
        "Sets are a built in data type in python used to store collections of unique items. They are unordered, meaning that the elements do not follow a specific order, and they do not allow duplicate elements. Sets are useful for membership tests eliminating duplicate entried and performing mathematical set operations like union intersection, difference and symmetric difference."
      ],
      "metadata": {
        "id": "A9kT1F03qWPK"
      }
    },
    {
      "cell_type": "code",
      "execution_count": null,
      "metadata": {
        "colab": {
          "base_uri": "https://localhost:8080/"
        },
        "id": "uR74uUgJqPjI",
        "outputId": "ed308a83-5aff-4504-b592-fd7299e4573e"
      },
      "outputs": [
        {
          "output_type": "stream",
          "name": "stdout",
          "text": [
            "{1, 2, 3, 4, 5}\n",
            "<class 'set'>\n",
            "<class 'set'>\n",
            "{1, 2, 3, 4, 5}\n",
            "{1, 2, 3, 4, 5, 6}\n"
          ]
        }
      ],
      "source": [
        "## Create a set\n",
        "my_set = {i for i in range(1,6)}\n",
        "print(my_set)\n",
        "print(type(my_set))\n",
        "\n",
        "## Empty set\n",
        "empty_set = set()\n",
        "print(type(empty_set))\n",
        "\n",
        "list_set = set([1,2,3,4,5])\n",
        "print(list_set)\n",
        "\n",
        "tupled_set = set((1,2,3,4,5,6,5,6,2))\n",
        "print(tupled_set)"
      ]
    },
    {
      "cell_type": "code",
      "source": [
        "## Basics sets operation\n",
        "## Adding and Removing elements using add\n",
        "\n",
        "my_set.add(7)\n",
        "print(my_set)\n",
        "\n",
        "\n",
        "# Reove the elements fromm the list - using discard\n",
        "# my_set.remove(3)\n",
        "my_set.discard(3)\n",
        "print(my_set)\n",
        "\n",
        "\n",
        "## Pop method\n",
        "removed_element = my_set.pop() # Unlike list the pop removes the 1st element\n",
        "print(removed_element)\n",
        "\n",
        "print([10,20,30].pop(1))"
      ],
      "metadata": {
        "colab": {
          "base_uri": "https://localhost:8080/"
        },
        "id": "mN6V8Wmrs2Hy",
        "outputId": "bd2cb0f4-181d-4381-a826-00d7bdcae722"
      },
      "execution_count": null,
      "outputs": [
        {
          "output_type": "stream",
          "name": "stdout",
          "text": [
            "{5, 7}\n",
            "{5, 7}\n",
            "5\n",
            "20\n"
          ]
        }
      ]
    },
    {
      "cell_type": "code",
      "source": [
        "## Clear all the element\n",
        "my_set.clear()\n",
        "print(my_set)"
      ],
      "metadata": {
        "colab": {
          "base_uri": "https://localhost:8080/"
        },
        "id": "0jhzz0lquc_f",
        "outputId": "605c3066-ae98-43fb-aef1-a3773ecd74b4"
      },
      "execution_count": null,
      "outputs": [
        {
          "output_type": "stream",
          "name": "stdout",
          "text": [
            "set()\n"
          ]
        }
      ]
    },
    {
      "cell_type": "code",
      "source": [
        "## Set membership test\n",
        "my_set = {1,2,3,4,5}\n",
        "print(3 in my_set)\n",
        "print(8 in my_set)"
      ],
      "metadata": {
        "colab": {
          "base_uri": "https://localhost:8080/"
        },
        "id": "cil0VP04umss",
        "outputId": "d002dc14-d103-4baa-cc11-2b89becaec4b"
      },
      "execution_count": null,
      "outputs": [
        {
          "output_type": "stream",
          "name": "stdout",
          "text": [
            "True\n",
            "False\n"
          ]
        }
      ]
    },
    {
      "cell_type": "code",
      "source": [
        "## Mathematical operation\n",
        "set1= {i for i in range(1,7)}\n",
        "set2 = {j for j in range(4,10)}\n",
        "print(set1,'\\n',set2)\n",
        "\n",
        "\n",
        "## Union of sets\n",
        "union_set = set1.union(set2)\n",
        "print(union_set)\n",
        "\n",
        "\n",
        "## Intersection of sets\n",
        "intersection_set = set1.intersection(set2)\n",
        "print(intersection_set)\n",
        "\n",
        "\n",
        "\n",
        "set1.intersection_update(set2) ## UPdates the entire variable when we use intersection_update\n",
        "print(set1)\n",
        "\n"
      ],
      "metadata": {
        "colab": {
          "base_uri": "https://localhost:8080/"
        },
        "id": "oZ4E_4-Eu3Wl",
        "outputId": "46f609af-90e0-44fe-cf78-4f20a71c1008"
      },
      "execution_count": null,
      "outputs": [
        {
          "output_type": "stream",
          "name": "stdout",
          "text": [
            "{1, 2, 3, 4, 5, 6} \n",
            " {4, 5, 6, 7, 8, 9}\n",
            "{1, 2, 3, 4, 5, 6, 7, 8, 9}\n",
            "{4, 5, 6}\n",
            "{4, 5, 6}\n"
          ]
        }
      ]
    },
    {
      "cell_type": "code",
      "source": [
        "set1= {i for i in range(1,7)}\n",
        "set2 = {j for j in range(4,10)}\n",
        "print(\"Set 1: \", set1)\n",
        "print(\"Set 2: \", set2)\n",
        "\n",
        "\n",
        "## Difference\n",
        "print(set1.difference(set2))  ## REturns elements not in the intersection that is element in set 1 not in set2\n",
        "# print(set1.difference_update(set2))\n",
        "\n",
        "print(set2.difference(set1))"
      ],
      "metadata": {
        "colab": {
          "base_uri": "https://localhost:8080/"
        },
        "id": "8XDwUGVpvm78",
        "outputId": "28b21abe-cb9b-4f5f-b2dc-820c09da4565"
      },
      "execution_count": null,
      "outputs": [
        {
          "output_type": "stream",
          "name": "stdout",
          "text": [
            "Set 1:  {1, 2, 3, 4, 5, 6}\n",
            "Set 2:  {4, 5, 6, 7, 8, 9}\n",
            "{1, 2, 3}\n",
            "{8, 9, 7}\n"
          ]
        }
      ]
    },
    {
      "cell_type": "code",
      "source": [
        "## Symmetric different\n",
        "set1.symmetric_difference(set2) ## Combines the unique elements in the sets"
      ],
      "metadata": {
        "colab": {
          "base_uri": "https://localhost:8080/"
        },
        "id": "Upg-DGO4yL0c",
        "outputId": "198cbe99-ff14-4d67-95c6-c12421d9cd34"
      },
      "execution_count": null,
      "outputs": [
        {
          "output_type": "execute_result",
          "data": {
            "text/plain": [
              "{1, 2, 3, 7, 8, 9}"
            ]
          },
          "metadata": {},
          "execution_count": 42
        }
      ]
    },
    {
      "cell_type": "code",
      "source": [
        "##### Sets method\n",
        "### subset methods\n",
        "### Superset\n",
        "\n",
        "set1= {i for i in range(1,6)}\n",
        "set2 = {j for j in range(3,6)}\n",
        "print(\"Set 1: \", set1)\n",
        "print(\"Set 2: \", set2)\n",
        "\n",
        "#issubset\n",
        "print(set1.issuperset(set2))  ## Are elements of set1 contained in set2\n",
        "\n",
        "\n",
        "# superset\n",
        "print(set1.issuperset(set2))"
      ],
      "metadata": {
        "colab": {
          "base_uri": "https://localhost:8080/"
        },
        "id": "2s-w8GCRyp_R",
        "outputId": "78865bd2-9657-468d-8360-c91247337a56"
      },
      "execution_count": null,
      "outputs": [
        {
          "output_type": "stream",
          "name": "stdout",
          "text": [
            "Set 1:  {1, 2, 3, 4, 5}\n",
            "Set 2:  {3}\n",
            "True\n",
            "True\n"
          ]
        }
      ]
    },
    {
      "cell_type": "code",
      "source": [
        "## Counting uniique words in text\n",
        "text = \"In this tutorial we are discussind about sets\"\n",
        "words= text.split()\n",
        "\n",
        "#### COnvert list of words to the unique words\n",
        "\n",
        "unique_words=set(words)\n",
        "print(unique_words)"
      ],
      "metadata": {
        "colab": {
          "base_uri": "https://localhost:8080/"
        },
        "id": "vko3DU8-0S3Z",
        "outputId": "509e9999-0db8-45a5-ece2-0c7290f6f14b"
      },
      "execution_count": null,
      "outputs": [
        {
          "output_type": "stream",
          "name": "stdout",
          "text": [
            "{'are', 'this', 'sets', 'we', 'tutorial', 'In', 'discussind', 'about'}\n"
          ]
        }
      ]
    },
    {
      "cell_type": "markdown",
      "source": [],
      "metadata": {
        "id": "-TuSDktK1EMM"
      }
    }
  ]
}